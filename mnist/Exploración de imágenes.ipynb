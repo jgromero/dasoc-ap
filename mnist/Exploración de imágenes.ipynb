{
 "cells": [
  {
   "cell_type": "markdown",
   "metadata": {},
   "source": [
    "<a target=\"_blank\" href=\"https://colab.research.google.com/github/jgromero/dasoc-ap/blob/main/mnist/Exploración de imágenes.ipynb\">\n",
    "  <img src=\"https://colab.research.google.com/assets/colab-badge.svg\" alt=\"Abrir en Colab\"/>\n",
    "</a>"
   ]
  },
  {
   "cell_type": "markdown",
   "metadata": {},
   "source": [
    "# Exploración de imágenes"
   ]
  },
  {
   "cell_type": "markdown",
   "metadata": {},
   "source": [
    "## MNIST"
   ]
  },
  {
   "cell_type": "markdown",
   "metadata": {},
   "source": [
    "El conjunto de datos MNIST es una gran colección de dígitos escritos a mano que se utiliza comúnmente para entrenar sistemas de procesamiento de imágenes, particularmente para clasificación.\n",
    "\n",
    "Consta de 60.000 imágenes de entrenamiento y 10.000 imágenes de prueba, cada una de las cuales es una imagen en escala de grises de 28x28 píxeles.\n",
    "\n",
    "MNIST puede descargarse de forma independiente o como [parte de `Keras`](https://keras.io/api/datasets/mnist/).\n",
    "\n"
   ]
  },
  {
   "cell_type": "code",
   "execution_count": null,
   "metadata": {},
   "outputs": [],
   "source": [
    "from tensorflow import keras\n",
    "\n",
    "(x_train, y_train), (x_test, y_test) = keras.datasets.mnist.load_data()"
   ]
  },
  {
   "cell_type": "code",
   "execution_count": null,
   "metadata": {},
   "outputs": [],
   "source": [
    "import matplotlib.pyplot as plt\n",
    "\n",
    "img   = x_train[0]\n",
    "label = y_train[0]\n",
    "\n",
    "plt.imshow(img, cmap='gray')\n",
    "plt.title(f\"Label: {label}\")\n",
    "plt.axis('off')\n",
    "plt.show()"
   ]
  },
  {
   "cell_type": "markdown",
   "metadata": {},
   "source": []
  }
 ],
 "metadata": {
  "language_info": {
   "name": "python"
  }
 },
 "nbformat": 4,
 "nbformat_minor": 2
}
